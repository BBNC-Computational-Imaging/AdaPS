{
 "cells": [
  {
   "cell_type": "markdown",
   "metadata": {},
   "source": [
    "# Multifocal generation with Adam optimizer"
   ]
  },
  {
   "cell_type": "markdown",
   "metadata": {},
   "source": [
    "### This optimization model is non-convex. We select the Adam optimizer, a stochastic optimization algorithm to find a satisfactory solution."
   ]
  },
  {
   "cell_type": "markdown",
   "metadata": {},
   "source": [
    "## 0. Some preparations"
   ]
  },
  {
   "cell_type": "markdown",
   "metadata": {
    "ExecuteTime": {
     "end_time": "2019-09-25T11:03:34.221124Z",
     "start_time": "2019-09-25T11:03:34.212794Z"
    }
   },
   "source": [
    "This notebook has been tested to be executable in the environment listed as below: \n",
    "- ubuntu 16.04 \n",
    "- python 3.6\n",
    "- tensorflow-gpu 1.4.0 \n",
    "- NVIDIA GPU + CUDA 8.0\n",
    "\n",
    "Please check your environment before run this notebook. If your environment is not consistent, we suggest you configure a same envoronment to avoid some annoying errors caused by version incompatibility of Tensorflow platform."
   ]
  },
  {
   "cell_type": "markdown",
   "metadata": {},
   "source": [
    "## 1. Set up the forward model"
   ]
  },
  {
   "cell_type": "code",
   "execution_count": 1,
   "metadata": {},
   "outputs": [],
   "source": [
    "import numpy as np\n",
    "from scipy import special\n",
    "import math\n",
    "import matplotlib.pyplot as plt\n",
    "% matplotlib inline"
   ]
  },
  {
   "cell_type": "markdown",
   "metadata": {
    "ExecuteTime": {
     "end_time": "2019-09-25T11:04:34.592359Z",
     "start_time": "2019-09-25T11:04:34.587877Z"
    }
   },
   "source": [
    "### Set the parameters about your optical system here"
   ]
  },
  {
   "cell_type": "code",
   "execution_count": 2,
   "metadata": {},
   "outputs": [],
   "source": [
    "# input parameters\n",
    "N_pupil = 800 # pixel number of pupil\n",
    "N_focal = 100 # pixel number of focal\n",
    "N_spot = 8 # pixel number of z\n",
    "N_depth = 500 # for final confirm\n",
    "\n",
    "spot_distance = 50e-6 # spot interval\n",
    "pixel_rho = 0.5e-5 # pixel size in pupil plane\n",
    "pixel_r = 0.2e-6 # pixel size in focal plane\n",
    "pixel_z = 1e-6 # pixel size along z-axis\n",
    "bias = 0e-6 # bias term\n",
    "sum_area = 5e-6 #  window size, for calculate the foci intensity in the focal plane\n",
    "\n",
    "# physical parameter\n",
    "f = 7.32e-3 # focal length of the objective\n",
    "wavelength = 920e-9 # wave length\n",
    "NA = 0.5\n",
    "n_obj= 1.33 # refractive index\n",
    "w0 = 5e-3 # incident beam waist radius, \n",
    "scat_length = 180e-6 # scattering depth\n",
    "\n",
    "k0 = 2 * math.pi / wavelength\n",
    "r_obj = NA /n_obj * f # diameter of back pupil"
   ]
  },
  {
   "cell_type": "code",
   "execution_count": 3,
   "metadata": {},
   "outputs": [
    {
     "name": "stdout",
     "output_type": "stream",
     "text": [
      "(800,)\n",
      "(800,)\n",
      "(500,)\n"
     ]
    }
   ],
   "source": [
    "# coordinate\n",
    "rho_index = np.array(range(0, N_pupil)) * pixel_rho # coordinate of pupil\n",
    "r_index = np.array(range(0,N_pupil)) * pixel_r # coordinate of focal\n",
    "depth_array = (np.array(range(1,N_depth + 1)) - N_depth / 2) * pixel_z\n",
    "\n",
    "# test\n",
    "print(rho_index.shape)\n",
    "print(r_index.shape)\n",
    "print(depth_array.shape) # note it's column vector"
   ]
  },
  {
   "cell_type": "code",
   "execution_count": 4,
   "metadata": {},
   "outputs": [
    {
     "name": "stdout",
     "output_type": "stream",
     "text": [
      "spot dpeth [-1.75e-04 -1.25e-04 -7.50e-05 -2.50e-05  2.50e-05  7.50e-05  1.25e-04\n",
      "  1.75e-04]\n",
      "[ 75. 124. 175. 225. 275. 325. 375. 425.]\n",
      "[0.57375342 0.32919299 0.1888756  0.10836802 0.06217652 0.03567399\n",
      " 0.02046808 0.01174363]\n"
     ]
    }
   ],
   "source": [
    "# spot position and intensity\n",
    "depth_ind = np.zeros([N_spot]); # depth index in the original array\n",
    "intensity_weight = np.zeros([N_spot]); # intensity weight of each foci\n",
    "spot_depth_indx = np.zeros([N_spot]); # depth of each foci\n",
    "if np.mod(N_spot, 2) == 0:\n",
    "    for i in range(0, N_spot):\n",
    "        spot_depth_indx[i] = spot_distance * (i + 1 - N_spot / 2 - 0.5) + bias\n",
    "        depth_ind[i] = np.int(spot_depth_indx[i] / pixel_z + N_depth / 2)\n",
    "        intensity_weight[i] = np.exp(-2 * spot_distance * (i + 1) / scat_length) # note: for two-photon, the intensity would be doubled\n",
    "else:\n",
    "    for i in range(0, N_spot):\n",
    "        spot_depth_indx[i] = spot_distance * (i + 1 - (N_spot + 1) / 2) + bias\n",
    "        depth_ind[i] = np.int(spot_depth_indx[i] / pixel_z + N_depth / 2)\n",
    "        intensity_weight[i] = np.exp(-2 * spot_distance * (i + 1) / scat_length)\n",
    "        \n",
    "# print spot location\n",
    "print('spot dpeth in micro', spot_depth_indx*1e6)\n",
    "print('spot dpeth in index', depth_ind)\n",
    "print('intensity weights', intensity_weight)"
   ]
  },
  {
   "cell_type": "markdown",
   "metadata": {
    "ExecuteTime": {
     "end_time": "2019-09-25T11:06:05.725513Z",
     "start_time": "2019-09-25T11:06:05.720283Z"
    }
   },
   "source": [
    "### Define energy distribution of the input beam"
   ]
  },
  {
   "cell_type": "code",
   "execution_count": 5,
   "metadata": {},
   "outputs": [
    {
     "data": {
      "text/plain": [
       "Text(0.5,1,'pupil plane')"
      ]
     },
     "execution_count": 5,
     "metadata": {},
     "output_type": "execute_result"
    },
    {
     "data": {
      "image/png": "[encoded data removed]",
      "text/plain": [
       "<Figure size 432x288 with 1 Axes>"
      ]
     },
     "metadata": {},
     "output_type": "display_data"
    }
   ],
   "source": [
    "# define input beam\n",
    "gaussian_mask = np.exp(-np.power(rho_index / w0, 2));\n",
    "pupil =np.ones(N_pupil) * gaussian_mask;\n",
    "pupil_cut_ind = (np.abs(rho_index- r_obj)).argmin(); # find the nearest value in the rho coordinate\n",
    "pupil[pupil_cut_ind:] = 0;\n",
    "\n",
    "plt.plot(rho_index * 1e3, pupil)\n",
    "plt.xlabel('rho in mm')\n",
    "plt.title('pupil plane')"
   ]
  },
  {
   "cell_type": "code",
   "execution_count": 6,
   "metadata": {},
   "outputs": [],
   "source": [
    "# summing area\n",
    "focal_sum_ind = (np.abs(r_index- sum_area)).argmin(); # find the nearest value in the rho coordinate"
   ]
  },
  {
   "cell_type": "code",
   "execution_count": 7,
   "metadata": {},
   "outputs": [
    {
     "name": "stdout",
     "output_type": "stream",
     "text": [
      "(800, 800)\n",
      "(25, 800)\n"
     ]
    }
   ],
   "source": [
    "# forward matrix\n",
    "H_matrix = special.jv(0, -k0 * np.matmul(r_index.reshape(-1, 1), rho_index.reshape(1, -1)) / f)\n",
    "print(H_matrix.shape)\n",
    "simplfied_matrix = H_matrix[:focal_sum_ind, :]\n",
    "print(simplfied_matrix.shape)"
   ]
  },
  {
   "cell_type": "markdown",
   "metadata": {},
   "source": [
    "### Test the forward model"
   ]
  },
  {
   "cell_type": "code",
   "execution_count": 8,
   "metadata": {},
   "outputs": [
    {
     "data": {
      "text/plain": [
       "Text(0.5,0,'z axis um')"
      ]
     },
     "execution_count": 8,
     "metadata": {},
     "output_type": "execute_result"
    },
    {
     "data": {
      "image/png": "[encoded data removed]",
      "text/plain": [
       "<Figure size 432x288 with 1 Axes>"
      ]
     },
     "metadata": {},
     "output_type": "display_data"
    },
    {
     "data": {
      "image/png": "[encoded data removed]",
      "text/plain": [
       "<Figure size 432x288 with 1 Axes>"
      ]
     },
     "metadata": {},
     "output_type": "display_data"
    }
   ],
   "source": [
    "# test forward model\n",
    "Phi = np.zeros(N_pupil)\n",
    "buf1 = 2 * math.pi * rho_index * np.exp(1j * Phi) *  pupil # size: (N_pupil,)\n",
    "buf1_exp = np.tile(\n",
    "    buf1.reshape(1, -1), \n",
    "    (N_depth, 1)\n",
    ") # size: [N_depth, N_pupil];\n",
    "buf2 = np.exp(\n",
    "    1j * k0 * \n",
    "    np.matmul(depth_array.reshape(-1, 1), (np.power(rho_index, 2)).reshape(1, -1))\n",
    "    / 2 / f/f) # size: [N_depth, N_pupil];\n",
    "buf3 = buf2 * buf1_exp # size: [N_spot, N_pupil];\n",
    "\n",
    "h_psf = np.matmul(buf3, np.transpose(H_matrix)) # size: [N_spot, focal_sum_ind];\n",
    "\n",
    "axial_intensity = np.sum(np.power(np.abs(h_psf), 4), 1)# should divided the guided intensity\n",
    "lateral_intensity = np.power(np.abs(h_psf[np.int(N_depth / 2 - 1),]), 4)\n",
    "\n",
    "plt.figure(1)\n",
    "plt.plot(r_index * 1e6, lateral_intensity)\n",
    "plt.title('lateral intensity distribution')\n",
    "plt.xlabel('r um')\n",
    "\n",
    "plt.figure(2)\n",
    "plt.plot(depth_array * 1e6, axial_intensity)\n",
    "plt.title('axial intensity distribution')\n",
    "plt.xlabel('z axis um')"
   ]
  },
  {
   "cell_type": "markdown",
   "metadata": {},
   "source": [
    "### 2. Run optimization"
   ]
  },
  {
   "cell_type": "code",
   "execution_count": 9,
   "metadata": {},
   "outputs": [
    {
     "name": "stderr",
     "output_type": "stream",
     "text": [
      "C:\\Users\\smile\\Anaconda3\\lib\\site-packages\\h5py\\__init__.py:36: FutureWarning: Conversion of the second argument of issubdtype from `float` to `np.floating` is deprecated. In future, it will be treated as `np.float64 == np.dtype(float).type`.\n",
      "  from ._conv import register_converters as _register_converters\n"
     ]
    }
   ],
   "source": [
    "import tensorflow as tf"
   ]
  },
  {
   "cell_type": "code",
   "execution_count": 10,
   "metadata": {},
   "outputs": [],
   "source": [
    "def compl_exp_tf(phase, dtype=tf.complex64, name='complex_exp'):\n",
    "    \"\"\"Complex exponent via euler's formula, since Cuda doesn't have a GPU kernel for that.\n",
    "    Casts to *dtype*.\n",
    "    \"\"\"\n",
    "    phase = tf.cast(phase, tf.float64)\n",
    "    return tf.add(tf.cast(tf.cos(phase), dtype=dtype),\n",
    "                  1.j * tf.cast(tf.sin(phase), dtype=dtype),\n",
    "                  name=name)"
   ]
  },
  {
   "cell_type": "code",
   "execution_count": 11,
   "metadata": {},
   "outputs": [],
   "source": [
    "# define phase as a variable\n",
    "# should be initialized by a spherical function\n",
    "phase_spherical = np.angle(np.exp(1j * k0 * bias * np.power(rho_index[:pupil_cut_ind], 2) / 2 / f/ f)) / 2 / np.pi\n",
    "x = tf.Variable(initial_value=phase_spherical, name='Phi', dtype=tf.float32, constraint=lambda t: tf.clip_by_value(t, 0, 1)) # valid part in pupil plane"
   ]
  },
  {
   "cell_type": "code",
   "execution_count": 12,
   "metadata": {},
   "outputs": [],
   "source": [
    "# some variables that needs not to be changed\n",
    "tf_rho_index = tf.constant(rho_index)\n",
    "tf_pupil = tf.constant(pupil)\n",
    "tf_simplfied_matrix = tf.cast(tf.constant(np.transpose(simplfied_matrix)), tf.complex64)\n",
    "\n",
    "buf2 = np.exp(\n",
    "    1j * k0 * \n",
    "    np.matmul(spot_depth_indx.reshape(-1, 1), (np.power(rho_index, 2)).reshape(1, -1))\n",
    "    / 2 / f/f) # size: [N_spot, N_pupil];\n",
    "tf_buf2 = tf.constant(buf2, dtype=tf.complex64)\n"
   ]
  },
  {
   "cell_type": "code",
   "execution_count": 13,
   "metadata": {},
   "outputs": [
    {
     "data": {
      "text/plain": [
       "<tf.Tensor 'Shape:0' shape=(1,) dtype=int32>"
      ]
     },
     "execution_count": 13,
     "metadata": {},
     "output_type": "execute_result"
    }
   ],
   "source": [
    "# phase\n",
    "# tf.shape(x)\n",
    "# tf.cast(x, tf.float64)\n",
    "# tf.cast(tf.zeros([N_pupil - pupil_cut_ind]), tf.float64)\n",
    "tf_Phi = tf.concat([x * 2 * np.pi, tf.zeros([N_pupil - pupil_cut_ind])], 0)\n",
    "tf.shape(tf_Phi)"
   ]
  },
  {
   "cell_type": "code",
   "execution_count": 14,
   "metadata": {},
   "outputs": [
    {
     "data": {
      "text/plain": [
       "<tf.Tensor 'Shape_1:0' shape=(1,) dtype=int32>"
      ]
     },
     "execution_count": 14,
     "metadata": {},
     "output_type": "execute_result"
    }
   ],
   "source": [
    "# calculation buf1\n",
    "tf_buf11 =tf.multiply(tf_rho_index, tf_pupil)\n",
    "tf_buf12 = tf.cast(tf_buf11, tf.complex64)\n",
    "tf_buf1 = 2 * np.pi * tf.multiply(tf_buf12, compl_exp_tf(tf_Phi)) # size: (N_pupil,)\n",
    "\n",
    "tf.shape(tf_buf1) # size: (N_pupil,)"
   ]
  },
  {
   "cell_type": "code",
   "execution_count": 15,
   "metadata": {},
   "outputs": [
    {
     "data": {
      "text/plain": [
       "<tf.Tensor 'Shape_2:0' shape=(2,) dtype=int32>"
      ]
     },
     "execution_count": 15,
     "metadata": {},
     "output_type": "execute_result"
    }
   ],
   "source": [
    "# calculation buf1_exp\n",
    "tf_buf1_exp = tf.matmul(tf.reshape(tf.cast(tf.ones([N_spot, 1]), tf.complex64), [-1, 1]), tf.reshape(tf_buf1, [1, -1])) # size: [N_spot, N_pupil], broadcast;\n",
    "tf.shape(tf_buf1_exp) "
   ]
  },
  {
   "cell_type": "code",
   "execution_count": 16,
   "metadata": {},
   "outputs": [],
   "source": [
    "# calculate buf3\n",
    "tf_buf3 = tf.multiply(tf_buf2, tf_buf1_exp) # size: [N_spot, N_pupil];"
   ]
  },
  {
   "cell_type": "code",
   "execution_count": 17,
   "metadata": {},
   "outputs": [],
   "source": [
    "# calculate PSF\n",
    "tf_h_psf = tf.matmul(tf_buf3, tf_simplfied_matrix) # size: [N_spot, focal_sum_ind];"
   ]
  },
  {
   "cell_type": "code",
   "execution_count": 18,
   "metadata": {},
   "outputs": [],
   "source": [
    "# define axial intensity\n",
    "tf_axial_intensity = tf.reduce_sum(tf.pow(tf.abs(tf_h_psf), 4), axis=1)# so here its 2P intensity"
   ]
  },
  {
   "cell_type": "code",
   "execution_count": 19,
   "metadata": {},
   "outputs": [],
   "source": [
    "# define lambda\n",
    "lambda_1 = 1\n",
    "lambda_2 = 10\n",
    "lambda_3 = 1e3\n",
    "n_round = 300000"
   ]
  },
  {
   "cell_type": "code",
   "execution_count": 20,
   "metadata": {},
   "outputs": [],
   "source": [
    "# define learning rate\n",
    "ada_learning_rate = 1e-3"
   ]
  },
  {
   "cell_type": "code",
   "execution_count": 21,
   "metadata": {},
   "outputs": [],
   "source": [
    "# define loss\n",
    "loss_1 = -tf.reduce_sum(tf_axial_intensity)\n",
    "loss_2 = tf.reduce_max(tf_axial_intensity * intensity_weight) / tf.reduce_min(tf_axial_intensity * intensity_weight)\n",
    "loss_3 = tf.keras.backend.std(tf_axial_intensity * intensity_weight)\n",
    "# loss_3 = -tf.reduce_sum(tf.slice(tf_axial_intensity, [-1], [1]) # last element\n",
    "# tf.shape(loss_1)\n",
    "# tf.shape(loss_2)\n",
    "loss = tf.add(\n",
    "    tf.add(tf.cast(lambda_1 * loss_1, tf.float64), \n",
    "                     tf.cast(lambda_2 * loss_2, tf.float64)), \n",
    "                     tf.cast(lambda_3 * loss_3, tf.float64))"
   ]
  },
  {
   "cell_type": "code",
   "execution_count": 22,
   "metadata": {
    "scrolled": true
   },
   "outputs": [
    {
     "name": "stdout",
     "output_type": "stream",
     "text": [
      "WARNING:tensorflow:From C:\\Users\\smile\\Anaconda3\\lib\\site-packages\\tensorflow\\python\\util\\tf_should_use.py:189: initialize_all_variables (from tensorflow.python.ops.variables) is deprecated and will be removed after 2017-03-02.\n",
      "Instructions for updating:\n",
      "Use `tf.global_variables_initializer` instead.\n",
      "starting at cost:  123566.09169316292\n",
      "step: 30000 cost: -70.50001776218414 loss1: -81.39184 loss2: 1.0066525 loss3: 0.0008252958\n",
      "step: 60000 cost: -106.17712378501892 loss1: -117.16078 loss2: 1.0058278 loss3: 0.00092538\n",
      "step: 90000 cost: -107.55162966251373 loss1: -118.61158 loss2: 1.0056214 loss3: 0.0010037359\n",
      "step: 120000 cost: -107.89044517278671 loss1: -118.62717 loss2: 1.0043657 loss3: 0.0006930643\n",
      "step: 150000 cost: -107.44330847263336 loss1: -118.6698 loss2: 1.0061777 loss3: 0.0011647142\n",
      "step: 180000 cost: -108.14122194051743 loss1: -118.67059 loss2: 1.002825 loss3: 0.00050112157\n",
      "step: 210000 cost: -107.6758326292038 loss1: -118.69222 loss2: 1.0053195 loss3: 0.000963195\n",
      "step: 240000 cost: -107.73123961687088 loss1: -118.705124 loss2: 1.0047783 loss3: 0.0009261014\n",
      "step: 270000 cost: -107.76016062498093 loss1: -118.69316 loss2: 1.00493 loss3: 0.0008837002\n"
     ]
    }
   ],
   "source": [
    "## optimization1\n",
    "optimizer = tf.train.AdamOptimizer(ada_learning_rate)\n",
    "train = optimizer.minimize(loss)\n",
    "init = tf.initialize_all_variables()\n",
    "\n",
    "with tf.Session() as sess:\n",
    "    sess.run(init)\n",
    "    print(\"starting at\", \"cost: \", sess.run(loss))\n",
    "    loss_array =np.array([])\n",
    "    for i in range(1, n_round):\n",
    "        sess.run(train)\n",
    "        loss_array = np.append(loss_array, sess.run(loss))\n",
    "        if not np.mod(i, np.int(n_round / 10)):\n",
    "            print(\"step:\", i, \"cost:\", sess.run(loss), \"loss1:\", \n",
    "                  sess.run(loss_1), \"loss2:\", sess.run(loss_2), \"loss3:\", sess.run(loss_3))\n",
    "\n",
    "    output_phase = sess.run(x)"
   ]
  },
  {
   "cell_type": "markdown",
   "metadata": {},
   "source": [
    "### 3. Evaludation\n"
   ]
  },
  {
   "cell_type": "code",
   "execution_count": 23,
   "metadata": {
    "scrolled": false
   },
   "outputs": [
    {
     "data": {
      "text/plain": [
       "Text(0,0.5,'rad')"
      ]
     },
     "execution_count": 23,
     "metadata": {},
     "output_type": "execute_result"
    },
    {
     "data": {
      "image/png": "[encoded data removed]",
      "text/plain": [
       "<Figure size 432x288 with 1 Axes>"
      ]
     },
     "metadata": {},
     "output_type": "display_data"
    },
    {
     "data": {
      "image/png": "[encoded data removed]",
      "text/plain": [
       "<Figure size 432x288 with 1 Axes>"
      ]
     },
     "metadata": {},
     "output_type": "display_data"
    }
   ],
   "source": [
    "Phi = np.zeros(N_pupil)\n",
    "Phi[:pupil_cut_ind] = output_phase\n",
    "buf1 = 2 * math.pi * rho_index * np.exp(1j * Phi * 2 * np.pi) *  pupil # size: (N_pupil,)\n",
    "buf1_exp = np.tile(\n",
    "    buf1.reshape(1, -1), \n",
    "    (N_depth, 1)\n",
    ") # size: [N_depth, N_pupil];\n",
    "buf2 = np.exp(\n",
    "    1j * k0 * \n",
    "    np.matmul(depth_array.reshape(-1, 1), (np.power(rho_index, 2)).reshape(1, -1))\n",
    "    / 2 / f/f) # size: [N_depth, N_pupil];\n",
    "buf3 = buf2 * buf1_exp # size: [N_spot, N_pupil];\n",
    "\n",
    "h_psf = np.matmul(buf3, np.transpose(H_matrix)) # size: [N_spot, focal_sum_ind];\n",
    "\n",
    "axial_intensity = np.sum(np.power(np.abs(h_psf), 4), 1)# should divided the guided intensity\n",
    "lateral_intensity = np.power(np.abs(h_psf[np.int(N_depth / 2 - 1),]), 4) # still 2P\n",
    "\n",
    "fig1 = plt.figure(1)\n",
    "plt.plot(depth_array * 1e6, axial_intensity)\n",
    "plt.hold\n",
    "plt.plot(depth_array[depth_ind.astype(np.int16) - 1] * 1e6, axial_intensity[depth_ind[0].astype(np.int16) - 1] / intensity_weight * intensity_weight[0])\n",
    "plt.title('Optimized axial intensity distribution')\n",
    "plt.xlabel('z axis um')\n",
    "\n",
    "fig2 = plt.figure(2)\n",
    "plt.plot(rho_index * 1e3, Phi * 2 * np.pi)\n",
    "plt.title('optimized phase')\n",
    "plt.xlabel('r distnace mm')\n",
    "plt.ylabel('rad')"
   ]
  },
  {
   "cell_type": "code",
   "execution_count": 24,
   "metadata": {},
   "outputs": [],
   "source": [
    "## generate 2d phase\n",
    "phase_2d = np.zeros([2 * pupil_cut_ind, 2 * pupil_cut_ind])\n",
    "for theta_index in range(0, pupil_cut_ind * 2): # azimuth angle\n",
    "    theta = theta_index / (pupil_cut_ind * 2) * 2 * np.pi\n",
    "    for r_ind in range(0, pupil_cut_ind): # radius\n",
    "        i = np.max([\n",
    "            np.min(\n",
    "                [np.int(r_ind * np.cos(theta) + pupil_cut_ind), 2 * pupil_cut_ind]\n",
    "            ), \n",
    "            0])\n",
    "        j = np.max([\n",
    "            np.min(\n",
    "                [np.int(r_ind * np.sin(theta) + pupil_cut_ind), 2 * pupil_cut_ind]\n",
    "            ), \n",
    "            0])\n",
    "        phase_2d[i, j] = Phi[r_ind]\n",
    "phase_2d *= 2 *np.pi "
   ]
  },
  {
   "cell_type": "code",
   "execution_count": 25,
   "metadata": {},
   "outputs": [
    {
     "data": {
      "text/plain": [
       "(-0.5, 1099.5, 1099.5, -0.5)"
      ]
     },
     "execution_count": 25,
     "metadata": {},
     "output_type": "execute_result"
    },
    {
     "data": {
      "image/png": "[encoded data removed]",
      "text/plain": [
       "<Figure size 432x288 with 2 Axes>"
      ]
     },
     "metadata": {},
     "output_type": "display_data"
    }
   ],
   "source": [
    "# plot phase mask\n",
    "fig3 = plt.figure(3)\n",
    "plt.imshow(phase_2d, cmap='hsv')\n",
    "plt.title('optimized 2d phase')\n",
    "plt.colorbar()\n",
    "plt.axis('off')"
   ]
  },
  {
   "cell_type": "markdown",
   "metadata": {},
   "source": [
    "### 4. save results"
   ]
  },
  {
   "cell_type": "code",
   "execution_count": 26,
   "metadata": {},
   "outputs": [],
   "source": [
    "import os\n",
    "import scipy.io as sio"
   ]
  },
  {
   "cell_type": "code",
   "execution_count": 27,
   "metadata": {},
   "outputs": [],
   "source": [
    "# build target folder\n",
    "target_dir = \"Ada_results/simulation/foci_{0}/dis_{1:.0f}um/\" .format(N_spot, spot_distance * 1e6)\n",
    "if not os.path.exists(target_dir):\n",
    "    os.makedirs(target_dir)"
   ]
  },
  {
   "cell_type": "code",
   "execution_count": 28,
   "metadata": {},
   "outputs": [],
   "source": [
    "# save the phase pattern\n",
    "sio.savemat('{0}/1d_phase_cut.mat'.format(target_dir), {'phase_cut': (output_phase * 2 * np.pi)})\n",
    "sio.savemat('{0}/1d_phase_full.mat'.format(target_dir), {'phase_full': (Phi * 2 * np.pi)})"
   ]
  },
  {
   "cell_type": "code",
   "execution_count": 29,
   "metadata": {},
   "outputs": [],
   "source": [
    "# save simulation parameters\n",
    "with open(\"{0}/Parameters.txt\".format(target_dir), \"w\") as text_file:\n",
    "    text_file.write(\"N_pupil: %.0f \\n\" % N_pupil)\n",
    "    text_file.write(\"N_focal: %.0f \\n\" % N_focal)\n",
    "    text_file.write(\"pixel_rho: %.2f um \\n\" % (pixel_rho*1e6))\n",
    "    text_file.write(\"pixel_r: %.2f \\n\" % (pixel_r*1e6))\n",
    "    text_file.write(\"f: %.2f mm \\n\" % (f * 1e3))\n",
    "    text_file.write(\"wavelength: %.0f \\n\" % (wavelength * 1e9))\n",
    "    text_file.write(\"NA: %.2f \\n\" % NA)\n",
    "    text_file.write(\"n_obj: %.2f \\n\" % n_obj)\n",
    "    text_file.write(\"input_w0: %.2f mm \\n\" % (w0 * 1e3))\n",
    "    text_file.write(\"lambda_loss_energy: %.2f \\n\" % lambda_1)\n",
    "    text_file.write(\"lambda_loss_max_min: %.2f \\n\" % lambda_2)\n",
    "    text_file.write(\"ada_learning_rate: %.5f \\n\" % ada_learning_rate)"
   ]
  },
  {
   "cell_type": "code",
   "execution_count": 30,
   "metadata": {},
   "outputs": [],
   "source": [
    "# save figures\n",
    "fig1.savefig('{0}/axial_distribution.png'.format(target_dir), dpi=220)\n",
    "fig2.savefig('{0}/1d_phase.png'.format(target_dir), dpi=220)\n",
    "fig3.savefig('{0}/2d_phase.png'.format(target_dir), dpi=220, bbox_inches='tight')"
   ]
  },
  {
   "cell_type": "code",
   "execution_count": 31,
   "metadata": {},
   "outputs": [
    {
     "data": {
      "text/plain": [
       "-1.0"
      ]
     },
     "execution_count": 31,
     "metadata": {},
     "output_type": "execute_result"
    }
   ],
   "source": [
    "np.cos(np.pi)"
   ]
  },
  {
   "cell_type": "code",
   "execution_count": 32,
   "metadata": {},
   "outputs": [
    {
     "data": {
      "text/plain": [
       "array([-1.75e-04, -1.25e-04, -7.50e-05, -2.50e-05,  2.50e-05,  7.50e-05,\n",
       "        1.25e-04,  1.75e-04])"
      ]
     },
     "execution_count": 32,
     "metadata": {},
     "output_type": "execute_result"
    }
   ],
   "source": [
    "spot_depth_indx"
   ]
  },
  {
   "cell_type": "code",
   "execution_count": null,
   "metadata": {},
   "outputs": [],
   "source": []
  }
 ],
 "metadata": {
  "kernelspec": {
   "display_name": "Python 3",
   "language": "python",
   "name": "python3"
  },
  "language_info": {
   "codemirror_mode": {
    "name": "ipython",
    "version": 3
   },
   "file_extension": ".py",
   "mimetype": "text/x-python",
   "name": "python",
   "nbconvert_exporter": "python",
   "pygments_lexer": "ipython3",
   "version": "3.7.0"
  },
  "varInspector": {
   "cols": {
    "lenName": 16,
    "lenType": 16,
    "lenVar": 40
   },
   "kernels_config": {
    "python": {
     "delete_cmd_postfix": "",
     "delete_cmd_prefix": "del ",
     "library": "var_list.py",
     "varRefreshCmd": "print(var_dic_list())"
    },
    "r": {
     "delete_cmd_postfix": ") ",
     "delete_cmd_prefix": "rm(",
     "library": "var_list.r",
     "varRefreshCmd": "cat(var_dic_list()) "
    }
   },
   "types_to_exclude": [
    "module",
    "function",
    "builtin_function_or_method",
    "instance",
    "_Feature"
   ],
   "window_display": false
  }
 },
 "nbformat": 4,
 "nbformat_minor": 2
}
